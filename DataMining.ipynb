{
 "cells": [
  {
   "cell_type": "code",
   "execution_count": 1,
   "metadata": {},
   "outputs": [],
   "source": [
    "import pandas as pd\n",
    "import numpy as np\n",
    "import lightgbm as lgb\n",
    "#可视化\n",
    "import matplotlib.pyplot as plt\n",
    "import seaborn as sns\n",
    "%matplotlib inline"
   ]
  },
  {
   "cell_type": "code",
   "execution_count": 2,
   "metadata": {},
   "outputs": [],
   "source": [
    "pd.set_option('display.max_columns',None)"
   ]
  },
  {
   "cell_type": "code",
   "execution_count": 3,
   "metadata": {},
   "outputs": [],
   "source": [
    "data_path = \"D:\\\\学习\\\\大三下\\\\数据挖掘实训\\\\华为杯\\\\\"\n",
    "data_path_save = \"D:\\\\学习\\\\大三下\\\\数据挖掘实训\\\\华为杯\\\\process_csv\\\\\"\n",
    "#读取数据\n",
    "age_train = pd.read_csv(data_path + \"age_train.csv\", names=['uid','age_group'])\n",
    "age_test = pd.read_csv(data_path + \"age_test.csv\", names=['uid'])\n",
    "\n",
    "# user_basic_info:用户标识、性别、常住地、手机型号、手机ram容量、ram剩余容量、rom容量、rom剩余容量占比、手机颜色、字体大小、上网类型、移动运营商、手机系统版本\n",
    "user_basic_info = pd.read_csv(data_path + \"user_basic_info.csv\", names=['uid','gender','city','prodName','ramCapacity','ramLeftRation','romCapacity','romLeftRation','color','fontSize','ct','carrier','os'])\n",
    "\n",
    "#user_behavior_info:手机表示、开机次数、手机ABCDEFG特性使用次数\n",
    "user_behavior_info = pd.read_csv(data_path + \"user_behavior_info.csv\", names=['uid','bootTimes','AFuncTimes','BFuncTimes','CFuncTimes','DFuncTimes','EFuncTimes','FFuncTimes','FFuncSum'])\n",
    "\n",
    "#user_app_actived：用户标识、app标识\n",
    "user_app_actived = pd.read_csv(data_path + \"user_app_actived.csv\", names=['uid','appId'])\n",
    "\n",
    "#app_info:app标识、app所属类型\n",
    "app_info = pd.read_csv(data_path + \"app_info.csv\", names=['appId', 'category'])"
   ]
  },
  {
   "cell_type": "code",
   "execution_count": 5,
   "metadata": {},
   "outputs": [
    {
     "data": {
      "text/plain": [
       "<matplotlib.axes._subplots.AxesSubplot at 0x1900fc52828>"
      ]
     },
     "execution_count": 5,
     "metadata": {},
     "output_type": "execute_result"
    },
    {
     "data": {
      "image/png": "[encoded data removed]",
      "text/plain": [
       "<Figure size 432x288 with 1 Axes>"
      ]
     },
     "metadata": {
      "needs_background": "light"
     },
     "output_type": "display_data"
    }
   ],
   "source": [
    "user_basic_info.count().plot(kind='bar')"
   ]
  },
  {
   "cell_type": "code",
   "execution_count": 6,
   "metadata": {},
   "outputs": [
    {
     "data": {
      "text/plain": [
       "<matplotlib.axes._subplots.AxesSubplot at 0x1900fe60898>"
      ]
     },
     "execution_count": 6,
     "metadata": {},
     "output_type": "execute_result"
    },
    {
     "data": {
      "image/png": "[encoded data removed]",
      "text/plain": [
       "<Figure size 432x288 with 1 Axes>"
      ]
     },
     "metadata": {
      "needs_background": "light"
     },
     "output_type": "display_data"
    }
   ],
   "source": [
    "user_behavior_info[user_behavior_info==0].count().plot(kind='bar')"
   ]
  },
  {
   "cell_type": "code",
   "execution_count": 7,
   "metadata": {
    "scrolled": true
   },
   "outputs": [],
   "source": [
    "#处理数据缺失\n",
    "user_basic_info = user_basic_info.fillna({'ramCapacity':4.856,'ramLeftRation':0.34,'romCapacity':82.2,'romLeftRation':0.434,'fontSize':1.1})\n",
    "user_basic_info.to_csv(data_path + \"user_basic_info_clear.csv\",index=0)\n",
    "user_behavior_info['bootTimes'] = user_behavior_info['bootTimes'].apply(lambda x: x if x!= 0 else 20.4)#平均值\n",
    "user_behavior_info['AFuncTimes'] = user_behavior_info['AFuncTimes'].apply(lambda x: x if x!= 0 else 23)#75%\n",
    "user_behavior_info['BFuncTimes'] = user_behavior_info['BFuncTimes'].apply(lambda x: x if x!= 0 else -0.07)#75%\n",
    "user_behavior_info['CFuncTimes'] = user_behavior_info['CFuncTimes'].apply(lambda x: x if x!= 0 else 1.6007)#平均值\n",
    "user_behavior_info['DFuncTimes'] = user_behavior_info['DFuncTimes'].apply(lambda x: x if x!= 0 else 3.124)#平均值\n",
    "user_behavior_info['EFuncTimes'] = user_behavior_info['EFuncTimes'].apply(lambda x: x if x!= 0 else 2.43)#75%\n",
    "user_behavior_info['FFuncSum'] = user_behavior_info['FFuncSum'].apply(lambda x: x if x!= 0 else 11945.9)#平均值\n",
    "#删除缺失过多的数据列\n",
    "del user_behavior_info['FFuncTimes']"
   ]
  },
  {
   "cell_type": "code",
   "execution_count": 8,
   "metadata": {
    "scrolled": true
   },
   "outputs": [],
   "source": [
    "#第一次处理大文件user_app_usage.csv，从中获得部分基本特征\n",
    "def f(x):\n",
    "    s = x.value_counts()\n",
    "    return np.nan if len(s) == 0 else s.index[0]\n",
    "\n",
    "def processUserAppUsage1():\n",
    "    resTable = pd.DataFrame()    #二维的表格型数据结构，可理解为Series的容器\n",
    "    #user_app_usage:用户标识、app标识、使用时长、打开次数、使用日期\n",
    "    reader = pd.read_csv(data_path + \"user_app_usage.csv\", names=['uid','appId','duration','times','use_date'], iterator=True)\n",
    "    last_df = pd.DataFrame()\n",
    "    \n",
    "    app_info = pd.read_csv(data_path + \"app_info.csv\", names=['appId','category'])\n",
    "    cats = list(set(app_info['category']))    #set() 函数创建一个无序不重复元素集\n",
    "                                              #list() 函数创建一个列表\n",
    "    category2id = dict(zip(sorted(cats), range(0,len(cats))))    #zip() 函数用于将可迭代的对象作为参数，\n",
    "                                                                 #将对象中对应的元素打包成一个个元组，然后返回由这些元组组成的列表。\n",
    "    id2category = dict(zip(range(0,len(cats)), sorted(cats)))\n",
    "    #apply(func [, args [, kwargs ]]) 函数用于当函数参数已经存在于一个元组或字典中时，间接地调用函数。\n",
    "    #lambda创建匿名函数\n",
    "    #将app_info.csv中的category字段转换成对应的数字索引\n",
    "    app_info['category'] = app_info['category'].apply(lambda x: category2id[x])\n",
    "    i = 1\n",
    "    \n",
    "    while True:\n",
    "        try:\n",
    "            print(\"index: {}\".format(i))\n",
    "            i+=1\n",
    "            df = reader.get_chunk(1000000)   #分块读取大文件对象，get_chunk(1000000)每次读取1000000条数据\n",
    "            df = pd.concat([last_df, df])    #数据合并\n",
    "            idx = df.shape[0]-1              #df.shape返回df的维度\n",
    "            last_user = df.iat[idx,0]        #指定行和列，快速定位元素，找到最后一个用户id\n",
    "            while(df.iat[idx,0]==last_user):\n",
    "                idx-=1\n",
    "            last_df = df[idx+1:]             #最后一个用户的首行记录\n",
    "            df = df[:idx+1]\n",
    "\n",
    "            now_df = pd.DataFrame()\n",
    "            now_df['uid'] = df['uid'].unique()   \n",
    "            # merge()数据合并\n",
    "            now_df = now_df.merge(df.groupby('uid')['appId'].count().to_frame(), how='left', on='uid')\n",
    "            now_df = now_df.merge(df.groupby('uid')['appId','use_date'].agg(['nunique']), how='left', on='uid')\n",
    "            now_df = now_df.merge(df.groupby('uid')['duration','times'].agg(['mean','max','std']), how='left', on='uid')\n",
    "            \n",
    "            now_df.columns = ['uid','usage_cnt','usage_appid_cnt','usage_date_cnt','duration_mean','duration_max','duration_std','times_mean','times_max','times_std']\n",
    "            now_df['duration_oneday'] = now_df.apply(lambda x:x['duration_mean'] * x['usage_cnt'],axis = 1)\n",
    "            \n",
    "            df = df.merge(app_info, how='left', on='appId')\n",
    "            now_df = now_df.merge(df.groupby('uid')['category'].nunique().to_frame(), how='left', on='uid')\n",
    "            now_df['usage_most_used_category'] = df.groupby(['uid'])['category'].transform(f)\n",
    "            resTable = pd.concat([resTable, now_df])\n",
    "        except StopIteration:\n",
    "            break\n",
    "    \n",
    "    #appuseProcessed:用户id,使用记录总数，不同的app个数，使用天数，使用时长平均数、最大值、平方差，使用次数平均数、最大值、平方差，app类型总数，最常使用的app类型\n",
    "    resTable.to_csv(data_path_save + \"appuseProcessed1.csv\",index=0)\n",
    "    print(\"Iterator is stopped\")"
   ]
  },
  {
   "cell_type": "code",
   "execution_count": null,
   "metadata": {},
   "outputs": [],
   "source": [
    "processUserAppUsage1()"
   ]
  },
  {
   "cell_type": "code",
   "execution_count": 10,
   "metadata": {},
   "outputs": [],
   "source": [
    "#读取大文件处理得到的数据appuseProcessed1\n",
    "appusedTable1 = pd.read_csv(data_path_save + \"appuseProcessed1.csv\")"
   ]
  },
  {
   "cell_type": "code",
   "execution_count": 11,
   "metadata": {},
   "outputs": [],
   "source": [
    "#处理user_app_actived.csv，获得每个用户激活40个类别app的数目\n",
    "def getUserCategoryNum():\n",
    "    cats = list(set(app_info['category']))    #创建一个无序不重复元素集并转换成列表\n",
    "    category2id = dict(zip(sorted(cats), range(0,len(cats))))\n",
    "    id2category = dict(zip(range(0,len(cats)), sorted(cats)))\n",
    "    #将app_info.csv中的category字段转换成对应的数字索引\n",
    "    app_info['category'] = app_info['category'].apply(lambda x: category2id[x])\n",
    "\n",
    "    app_info_dict = app_info.groupby('appId')['category'].apply(list)  #将app_info同id合并后，转换成字典\n",
    "    app_categoryNum_array = np.zeros((user_basic_info.shape[0],40))    #建立二维数组，存储每个用户激活的每类型app数量\n",
    "    #处理user_app_actived，获得每个用户激活每类app的数量\n",
    "    k = 0\n",
    "    for x in user_app_actived['appId']:    #读取用户激活app文件的每条记录\n",
    "        for y in x.split('#'):             #分词，获得每个appId\n",
    "            if y in app_info_dict:         #判断appId在字典中是否存在\n",
    "                category_list = app_info_dict[y]      #通过字典获得该appId对应的类型列表\n",
    "                for j in range(len(category_list)):\n",
    "                    app_categoryNum_array[k,category_list[j]] += 1\n",
    "        k = k + 1\n",
    "        if(k % 10000 == 0):\n",
    "            print(k)\n",
    "    user_app_categoryNum = pd.DataFrame(user_app_categoryNum)   #将数组转换成DataFrame\n",
    "    user_app_categoryNum = pd.concat([user_app_actived['uid'],user_app_categoryNum],axis=1)   #加入uid列\n",
    "    user_app_categoryNum.to_csv(data_path_save + \"user_app_categoryNum.csv\",index=0)"
   ]
  },
  {
   "cell_type": "code",
   "execution_count": null,
   "metadata": {},
   "outputs": [],
   "source": [
    "getUserCategoryNum()"
   ]
  },
  {
   "cell_type": "code",
   "execution_count": 12,
   "metadata": {},
   "outputs": [],
   "source": [
    "#读取每个用户激活的40个类别app数目\n",
    "user_app_categoryNum = pd.read_csv(data_path_save + \"user_app_categoryNum.csv\")"
   ]
  },
  {
   "cell_type": "code",
   "execution_count": 13,
   "metadata": {},
   "outputs": [],
   "source": [
    "#第二次处理大文件user_app_usage.csv，从中获得每个用户对于40个类别app的使用总时长和总次数\n",
    "def processUserAppUsage2():\n",
    "    resTable = pd.DataFrame()    #二维的表格型数据结构，可理解为Series的容器\n",
    "\n",
    "    #user_app_usage:用户标识、app标识、使用时长、打开次数、使用日期\n",
    "    reader = pd.read_csv(data_path + \"user_app_usage.csv\", names=['uid','appId','duration','times','use_date'], iterator=True)\n",
    "\n",
    "    last_df = pd.DataFrame()\n",
    "\n",
    "    i = 1\n",
    "\n",
    "    while True:\n",
    "        try:\n",
    "            print(\"index: {}\".format(i))\n",
    "            i+=1\n",
    "            df = reader.get_chunk(1000000)   #分块读取大文件对象，get_chunk(1000000)每次读取1000000条记录\n",
    "            df = pd.concat([last_df, df])    #数据合并\n",
    "            idx = df.shape[0]-1              #df.shape返回df的维度\n",
    "            last_user = df.iat[idx,0]        #指定行和列，快速定位元素，找到最后一个用户id\n",
    "            while(df.iat[idx,0]==last_user):\n",
    "                idx-=1\n",
    "            last_df = df[idx+1:]             #最后一个用户的首行记录\n",
    "            df = df[:idx+1]\n",
    "\n",
    "            df_modify = df.groupby(by = ['uid','appId'])['duration','times'].agg(['sum']).reset_index()    #将同一用户使用同一app的时长和次数相加\n",
    "            df_modify.columns = ['uid','appId','duration_sum','times_sum']\n",
    "            row_len = df_modify.shape[0]\n",
    "            user_num = df_modify['uid'].unique().shape[0]\n",
    "\n",
    "            app_category_usage_array = np.zeros((user_num,81))    #建立二维数组，存储每个用户对每个类别app的使用时长和次数\n",
    "\n",
    "            df_modify['appId'] = df_modify['appId'].apply(lambda x: app_info_dict[x] if x in app_info_dict else [40])\n",
    "            df_array = df_modify.values\n",
    "\n",
    "            app_category_usage_dataFrame = pd.DataFrame()    \n",
    "            userid = df_modify['uid'][0]\n",
    "            m = 0\n",
    "            for k in range(0,row_len):\n",
    "                if(userid != df_array[k,0]):\n",
    "                    app_category_usage_dataFrame.at[m,'uid'] = userid          #uid列\n",
    "                    m += 1\n",
    "                    if(m >= user_num):\n",
    "                        break\n",
    "                    userid = df_array[k,0]\n",
    "                app_category = df_array[k,1]\n",
    "                if(app_category == [40]):\n",
    "                    continue\n",
    "                for j in range(len(app_category)):\n",
    "                    app_category_usage_array[m,app_category[j]] += df_array[k,2]\n",
    "                    app_category_usage_array[m,app_category[j]+40] += df_array[k,3]\n",
    "            app_category_usage_dataFrame_right = pd.DataFrame(app_category_usage_array)\n",
    "            app_category_usage_dataFrame = pd.concat([app_category_usage_dataFrame,app_category_usage_dataFrame_right],axis=1)   #与uid列合并\n",
    "            resTable = pd.concat([resTable, app_category_usage_dataFrame])\n",
    "        except StopIteration:\n",
    "            break\n",
    "\n",
    "    resTable.to_csv(data_path + \"appuseProcessed2.csv\",index=0)\n",
    "    print(\"Iterator is stopped\")"
   ]
  },
  {
   "cell_type": "code",
   "execution_count": null,
   "metadata": {},
   "outputs": [],
   "source": [
    "processUserAppUsage2()"
   ]
  },
  {
   "cell_type": "code",
   "execution_count": 14,
   "metadata": {},
   "outputs": [],
   "source": [
    "#读取第二次大文件处理得到的数据appuseProcessed2\n",
    "appusedTable2 = pd.read_csv(data_path_save + \"appuseProcessed2.csv\")"
   ]
  },
  {
   "cell_type": "code",
   "execution_count": 17,
   "metadata": {},
   "outputs": [],
   "source": [
    "#将user_app_categoryNum和appusedTable2合并\n",
    "user_app_categoryNum_detail = user_app_categoryNum.merge(appusedTable2,how='left',on='uid')"
   ]
  },
  {
   "cell_type": "code",
   "execution_count": null,
   "metadata": {},
   "outputs": [],
   "source": [
    "#处理user_app_categoryNum_detail中的数据缺失，删除无用的数据列\n",
    "\n",
    "#分别计算40个类别app激活人数为0的用户数\n",
    "category_zeros_arr = np.zeros(40)\n",
    "for i in range(0,40):\n",
    "    for x in user_app_categoryNum_detail[str(i)+'_x']:\n",
    "        if x==0 :\n",
    "            category_zeros_arr[i] += 1\n",
    "print(\"over\")\n",
    "#分别计算40个类别app使用时长为0的用户数\n",
    "dur_zeros_arr = np.zeros(40)\n",
    "for i in range(0,40):\n",
    "    for x in user_app_categoryNum_detail[str(i)+'_y']:\n",
    "        if x==0 :\n",
    "            dur_zeros_arr[i] += 1\n",
    "print(\"over\")\n",
    "#分别计算40个类别app使用次数为0的用户数\n",
    "times_zeros_arr = np.zeros(40)\n",
    "for i in range(40,80):\n",
    "    for x in user_app_categoryNum_detail[str(i)]:\n",
    "        if x==0 :\n",
    "            times_zeros_arr[i-40] += 1\n",
    "print(\"over\")\n",
    "    \n",
    "#分别计算每个类别激活app数、使用时长、使用次数三个值的平均值\n",
    "for i in range(0,40):\n",
    "    category_zeros_arr[i] = 2512500 * np.mean(user_app_categoryNum_detail[str(i)+'_x']) / (2512500 - category_zeros_arr[i])\n",
    "    dur_zeros_arr[i] = 1991516 * np.mean(user_app_categoryNum_detail[str(i)+'_y']) / (1991516 - dur_zeros_arr[i])\n",
    "    times_zeros_arr[i] = 1991516 * np.mean(user_app_categoryNum_detail[str(i + 40)]) / (1991516 - times_zeros_arr[i])\n",
    "    \n",
    "#数据填充，用该用户该类app激活数目来预测该用户该类app的使用时长和使用次数\n",
    "for index in range(2512500):\n",
    "    if np.isnan(user_app_categoryNum_detail.at[index,'40']):\n",
    "        for i in range(40):\n",
    "            user_app_categoryNum_detail.at[index,str(i)+'_y'] = dur_zeros_arr[i] * user_app_categoryNum_detail.at[index,str(i) + '_x'] / category_zeros_arr[i]\n",
    "            user_app_categoryNum_detail.at[index,str(i+40)] = times_zeros_arr[i] * user_app_categoryNum_detail.at[index,str(i) + '_x'] / category_zeros_arr[i] \n",
    "        print(index)\n",
    "\n",
    "#删除无意义数据列\n",
    "del user_app_categoryNum_detail['Unnamed: 0']\n",
    "#删除全为0的数据列\n",
    "user_app_categoryNum_detail = user_app_categoryNum_detail.drop(columns=['1_x','2_x','5_x','12_x','13_x','25_x','27_x','30_x','36_x','1_y','2_y','5_y','12_y','13_y','25_y','27_y','30_y','36_y','41','42','45','52','53','65','67','70','76'])"
   ]
  },
  {
   "cell_type": "code",
   "execution_count": null,
   "metadata": {},
   "outputs": [],
   "source": [
    "#将user_basic_info.csv 和 user_behavior_info.csv中的字符值编码成可以训练的数值类型，合并\n",
    "class2id = {}\n",
    "id2class = {}\n",
    "def mergeBasicTables(baseTable):\n",
    "    resTable = baseTable.merge(user_basic_info, how='left', on='uid', suffixes=('_base0', '_ubaf'))\n",
    "    resTable = resTable.merge(user_behavior_info, how='left', on='uid', suffixes=('_base1', '_ubef'))\n",
    "    cat_columns = ['city','prodName','color','carrier','os','ct']\n",
    "    for c in cat_columns:\n",
    "        resTable[c] = resTable[c].apply(lambda x: x if type(x)==str else str(x))\n",
    "        sort_temp = sorted(list(set(resTable[c])))  \n",
    "        class2id[c+'2id'] = dict(zip(sort_temp, range(1, len(sort_temp)+1)))\n",
    "        id2class['id2'+c] = dict(zip(range(1,len(sort_temp)+1), sort_temp))\n",
    "        resTable[c] = resTable[c].apply(lambda x: class2id[c+'2id'][x])\n",
    "        \n",
    "    return resTable"
   ]
  },
  {
   "cell_type": "code",
   "execution_count": null,
   "metadata": {},
   "outputs": [],
   "source": [
    "#处理app使用相关数据\n",
    "#对user_app_actived.csv简单统计\n",
    "#将之前训练的appuseProcess.csv进行合并\n",
    "def mergeAppData(baseTable):\n",
    "    resTable = baseTable.merge(user_app_actived, how='left', on='uid')\n",
    "    resTable['appId'] = resTable['appId'].apply(lambda x: len(list(x.split('#'))))\n",
    "    resTable = resTable.merge(appusedTable1, how='left', on='uid')\n",
    "    resTable[['category', 'usage_most_used_category']] = resTable[['category', 'usage_most_used_category']].fillna(41)\n",
    "    resTable = resTable.merge(user_app_categoryNum_detail, how='left', on='uid')\n",
    "    resTable = resTable.fillna(0)\n",
    "    #print(resTable[:5])\n",
    "    return resTable"
   ]
  },
  {
   "cell_type": "code",
   "execution_count": null,
   "metadata": {},
   "outputs": [],
   "source": [
    "#合并用户基本特征以及app使用相关特征，作为训练集和测试集\n",
    "df_train = mergeAppData(mergeBasicTables(age_train))\n",
    "df_test = mergeAppData(mergeBasicTables(age_test))\n",
    "print(df_train.shape)\n",
    "print(df_test.shape)"
   ]
  },
  {
   "cell_type": "code",
   "execution_count": null,
   "metadata": {},
   "outputs": [],
   "source": [
    "#将ct、carrier、os转换成one-hot编码\n",
    "ct_list=[]\n",
    "for j in range(1,9):\n",
    "    ct_list.append('ct_'+str(j))\n",
    "\n",
    "ct_arr = df_train['ct'].tolist()\n",
    "ct_oneHot = np.zeros((2010000,8))\n",
    "for i in range(2010000):\n",
    "    ct_oneHot[i][ct_arr[i]-1] = 1\n",
    "ct_df = pd.DataFrame(ct_oneHot)\n",
    "ct_df.columns = ct_list\n",
    "ct_df['uid']=df_train['uid']\n",
    "df_train = df_train.merge(ct_df,how='left',on='uid')\n",
    "del df_train['ct']\n",
    "\n",
    "ct_arr = df_test['ct'].tolist()\n",
    "ct_oneHot = np.zeros((502500,8))\n",
    "for i in range(502500):\n",
    "    ct_oneHot[i][ct_arr[i]-1] = 1\n",
    "ct_df = pd.DataFrame(ct_oneHot)\n",
    "ct_df.columns = ct_list\n",
    "ct_df['uid']=df_test['uid']\n",
    "df_test = df_test.merge(ct_df,how='left',on='uid')\n",
    "del df_test['ct']\n",
    "\n",
    "\n",
    "carrier_list=[]\n",
    "for j in range(1,5):\n",
    "    carrier_list.append('carrier_'+str(j))\n",
    "    \n",
    "carrier_arr = df_train['carrier'].tolist()\n",
    "carrier_oneHot = np.zeros((2010000,4))\n",
    "for i in range(2010000):\n",
    "    carrier_oneHot[i][carrier_arr[i]-1] = 1\n",
    "carrier_df = pd.DataFrame(carrier_oneHot)\n",
    "carrier_df.columns = carrier_list\n",
    "carrier_df['uid']=df_train['uid']\n",
    "df_train = df_train.merge(carrier_df,how='left',on='uid')\n",
    "del df_train['carrier']\n",
    "\n",
    "carrier_arr = df_test['carrier'].tolist()\n",
    "carrier_oneHot = np.zeros((502500,4))\n",
    "for i in range(502500):\n",
    "    carrier_oneHot[i][carrier_arr[i]-1] = 1\n",
    "carrier_df = pd.DataFrame(carrier_oneHot)\n",
    "carrier_df.columns = carrier_list\n",
    "carrier_df['uid']=df_test['uid']\n",
    "df_test = df_test.merge(carrier_df,how='left',on='uid')\n",
    "del df_test['carrier']\n",
    "\n",
    "\n",
    "os_list=[]\n",
    "for j in range(1,18):\n",
    "    os_list.append('os_'+str(j))\n",
    "    \n",
    "os_arr = df_train['os'].tolist()\n",
    "os_oneHot = np.zeros((2010000,17))\n",
    "for i in range(2010000):\n",
    "    os_oneHot[i][os_arr[i]-1] = 1\n",
    "os_df = pd.DataFrame(os_oneHot)\n",
    "os_df.columns = os_list\n",
    "os_df['uid']=df_train['uid']\n",
    "df_train = df_train.merge(os_df,how='left',on='uid')\n",
    "del df_train['os']\n",
    "\n",
    "os_arr = df_test['os'].tolist()\n",
    "os_oneHot = np.zeros((502500,17))\n",
    "for i in range(502500):\n",
    "    os_oneHot[i][os_arr[i]-1] = 1\n",
    "os_df = pd.DataFrame(os_oneHot)\n",
    "os_df.columns = os_list\n",
    "os_df['uid']=df_test['uid']\n",
    "df_test = df_test.merge(os_df,how='left',on='uid')\n",
    "del df_test['os']"
   ]
  },
  {
   "cell_type": "code",
   "execution_count": null,
   "metadata": {},
   "outputs": [],
   "source": [
    "X = df_train.drop(['age_group','uid'], axis=1)\n",
    "y = df_train['age_group']\n",
    "#采用随机森林来计算特征输入\n",
    "from sklearn.ensemble import RandomForestClassifier\n",
    "from sklearn.feature_selection import SelectFromModel\n",
    "#n_estimators构造的决策树数量，max_features不超过的最大特征数量\n",
    "clf=RandomForestClassifier(n_estimators=50,max_features='sqrt')\n",
    "clf=clf.fit(X,y)\n",
    " \n",
    "features=pd.DataFrame()\n",
    "features['feature']=X.columns\n",
    "features['importance']=clf.feature_importances_ #系数大小反应特征重要性\n",
    "features.sort_values(by=['importance'],ascending=True,inplace=True)\n",
    "features.set_index('feature',inplace=True)\n",
    " \n",
    "features.plot(kind='barh',figsize=(20,20))"
   ]
  },
  {
   "cell_type": "code",
   "execution_count": null,
   "metadata": {},
   "outputs": [],
   "source": [
    "df_train = df_train.drop(columns=['os_8','os_6','os_7','os_4','os_17','os_5','os_13','os_11','os_10','os_1','23_x','23_y','72','32_y','carrier_4','ct_4','ct_2','ct_3','ct_1','63','32_x','16_x','16_y','56','15_x','3_y','3_x','55','15_y','43','28_y','68','28_x','50','10_y','34_x','10_x','74','34_y'])\n",
    "df_test = df_test.drop(columns=['os_8','os_6','os_7','os_4','os_17','os_5','os_13','os_11','os_10','os_1','23_x','23_y','72','32_y','carrier_4','ct_4','ct_2','ct_3','ct_1','63','32_x','16_x','16_y','56','15_x','3_y','3_x','55','15_y','43','28_y','68','28_x','50','10_y','34_x','10_x','74','34_y'])"
   ]
  },
  {
   "cell_type": "code",
   "execution_count": null,
   "metadata": {},
   "outputs": [],
   "source": [
    "#训练模型\n",
    "from sklearn.feature_selection import SelectFromModel, VarianceThreshold, SelectKBest, chi2, mutual_info_classif, f_classif\n",
    "from sklearn.preprocessing import Imputer\n",
    "from sklearn.ensemble import ExtraTreesClassifier\n",
    "\n",
    "import lightgbm as lgb\n",
    "from sklearn.model_selection import train_test_split\n",
    "from sklearn.metrics import roc_auc_score, accuracy_score, f1_score\n",
    "from sklearn.model_selection import StratifiedKFold"
   ]
  },
  {
   "cell_type": "code",
   "execution_count": null,
   "metadata": {},
   "outputs": [],
   "source": [
    "print(\"训练模型：\")\n",
    "param = {\n",
    "        'learning_rate': 0.05, \n",
    "        'lambda_l1': 0.1,\n",
    "        'lambda_l2': 0.2,\n",
    "        'max_depth': 30,\n",
    "        'objective': 'multiclass',\n",
    "        'num_class': 7,\n",
    "        'num_leaves': 50,\n",
    "        'min_data_in_leaf': 63,\n",
    "        'max_bin': 512,\n",
    "        'feature_fraction': 0.8,\n",
    "        'metric': 'multi_error'\n",
    "        }\n",
    "\n",
    "X = df_train.drop(['age_group','uid'], axis=1)\n",
    "y = df_train['age_group']\n",
    "uid = df_test['uid']\n",
    "test = df_test.drop('uid', axis=1)\n",
    "\n",
    "xx_score = []\n",
    "cv_pred = []\n",
    "skf = StratifiedKFold(n_splits=7, random_state=1030, shuffle=True)   #交叉验证，分为7折\n",
    "for index, (train_index, vali_index) in enumerate(skf.split(X, y)):\n",
    "    print(index)\n",
    "    x_train, y_train, x_vali, y_vali = np.array(X)[train_index], np.array(y)[train_index], np.array(X)[vali_index], np.array(y)[vali_index]\n",
    "    train = lgb.Dataset(x_train, y_train)    #构建训练集\n",
    "    vali =lgb.Dataset(x_vali, y_vali,reference=train)        #构建验证集\n",
    "    print(\"training start...\")\n",
    "    model = lgb.train(param, train, num_boost_round=5000, valid_sets=[vali], early_stopping_rounds=200)\n",
    "    xx_pred = model.predict(x_vali,num_iteration=model.best_iteration)    #此时返回的是对每类的预测概率\n",
    "                                                                          #假设训练数据有N个，类别为n个，则xx_pre是一个N*n的np.array\n",
    "    xx_pred = [np.argmax(x) for x in xx_pred]                             #转化为类别\n",
    "    xx_score.append(f1_score(y_vali,xx_pred,average='weighted'))\n",
    "    y_test = model.predict(test,num_iteration=model.best_iteration)\n",
    "    y_test = [np.argmax(x) for x in y_test]\n",
    "    if index == 0:\n",
    "        cv_pred = np.array(y_test).reshape(-1, 1)\n",
    "    else:\n",
    "        cv_pred = np.hstack((cv_pred, np.array(y_test).reshape(-1, 1)))\n",
    "\n",
    "#投票\n",
    "submit = []\n",
    "for line in cv_pred:\n",
    "    submit.append(np.argmax(np.bincount(line)))   #选择出现次数最多的为预测结果\n",
    "df = pd.DataFrame({'id':uid.as_matrix(),'label':submit})\n",
    "df.to_csv(data_path_save + 'submission.csv',index=False)"
   ]
  }
 ],
 "metadata": {
  "kernelspec": {
   "display_name": "Python 3",
   "language": "python",
   "name": "python3"
  },
  "language_info": {
   "codemirror_mode": {
    "name": "ipython",
    "version": 3
   },
   "file_extension": ".py",
   "mimetype": "text/x-python",
   "name": "python",
   "nbconvert_exporter": "python",
   "pygments_lexer": "ipython3",
   "version": "3.7.3"
  }
 },
 "nbformat": 4,
 "nbformat_minor": 2
}
